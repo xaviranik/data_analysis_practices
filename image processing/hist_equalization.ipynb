{
  "nbformat": 4,
  "nbformat_minor": 0,
  "metadata": {
    "colab": {
      "name": "hist-eq.ipynb",
      "provenance": []
    },
    "kernelspec": {
      "name": "python3",
      "display_name": "Python 3"
    }
  },
  "cells": [
    {
      "cell_type": "markdown",
      "metadata": {
        "id": "8i7tRSCggR4R",
        "colab_type": "text"
      },
      "source": [
        "**Histogram Equalization**"
      ]
    },
    {
      "cell_type": "code",
      "metadata": {
        "id": "5Jxsj3fQcok8",
        "colab_type": "code",
        "colab": {}
      },
      "source": [
        "import cv2\n",
        "from google.colab.patches import cv2_imshow\n",
        "import numpy as np\n",
        "import matplotlib.pyplot as plt\n",
        "\n",
        "%matplotlib inline\n",
        "\n",
        "# Load the input image\n",
        "original_img = cv2.imread(\"rdj.jpeg\")\n",
        "\n",
        "# Convert the input image into grayscale\n",
        "gray_img = cv2.cvtColor(original_img, cv2.COLOR_BGR2GRAY)\n",
        "\n",
        "img_size = gray_img.shape\n",
        "height = img_size[0]\n",
        "width = img_size[1]\n",
        "\n",
        "# Display the original histogram\n",
        "store = np.zeros((256,),dtype=np.int32)\n",
        "saved = np.zeros((256,),dtype=np.int32)\n",
        "for i in range(height):\n",
        "    for j in range(width):\n",
        "       k = gray_img[i,j]\n",
        "       store[k] += 1\n",
        "# print('Store Value')\n",
        "# print(store)\n",
        "print('Original Histogram')\n",
        "x = np.arange(0,256)\n",
        "plt.bar(x,store,color=\"gray\",align=\"center\")\n",
        "plt.show()\n",
        "\n",
        "# Perform the cumulative distribution function\n",
        "sum_hist = np.cumsum(store)\n",
        "# print('Sum Histogram 255')\n",
        "# print(sum_hist[255])\n",
        "# print('Sum Histogram')\n",
        "# print(sum_hist)\n",
        "# Show the plot of cumulative distribution\n",
        "print('Plot of cumulative distribution')\n",
        "x = np.arange(0,256)\n",
        "plt.bar(x,sum_hist,color=\"gray\",align=\"center\")\n",
        "plt.show()\n",
        "\n",
        "# Get the new pixel value from the cumulative distribution\n",
        "for x in range(0,256):\n",
        "    saved[x] = sum_hist[x] * 255 / sum_hist[255]\n",
        "# Show the histogram of new pixel value\n",
        "print('Histogram of new pixel values')\n",
        "x = np.arange(0,256)\n",
        "plt.bar(x,saved,color=\"gray\",align=\"center\")\n",
        "plt.show()\n",
        "\n",
        "# Write new pixel value into the old image\n",
        "for i in range(height):\n",
        "    for j in range(width):\n",
        "        k = gray_img[i,j]\n",
        "        gray_img[i, j] = saved[k]\n",
        "# Display the new image histogram\n",
        "store = np.zeros((256,),dtype=np.int32)\n",
        "saved = np.zeros((256,),dtype=np.int32)\n",
        "for i in range(height):\n",
        "    for j in range(width):\n",
        "       k = gray_img[i,j]\n",
        "       store[k] += 1\n",
        "# print('Stored Value')\n",
        "# print(store)\n",
        "print('New Histogram')\n",
        "x = np.arange(0,256)\n",
        "plt.bar(x,store,color=\"gray\",align=\"center\")\n",
        "plt.show()\n",
        "\n",
        "# Show and save the result\n",
        "cv2_imshow(original_img)\n",
        "cv2_imshow(gray_img)\n",
        "cv2.imwrite(\"result.jpg\", gray_img)"
      ],
      "execution_count": 0,
      "outputs": []
    },
    {
      "cell_type": "code",
      "metadata": {
        "id": "SdXQv0SBgcOR",
        "colab_type": "code",
        "colab": {}
      },
      "source": [
        ""
      ],
      "execution_count": 0,
      "outputs": []
    }
  ]
}